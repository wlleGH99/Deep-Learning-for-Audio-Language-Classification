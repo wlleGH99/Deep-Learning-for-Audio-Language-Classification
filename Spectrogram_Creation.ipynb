{
  "nbformat": 4,
  "nbformat_minor": 0,
  "metadata": {
    "colab": {
      "name": "Spectrogram Creation.ipynb",
      "provenance": [],
      "collapsed_sections": []
    },
    "kernelspec": {
      "name": "python3",
      "display_name": "Python 3"
    },
    "language_info": {
      "name": "python"
    }
  },
  "cells": [
    {
      "cell_type": "code",
      "source": [
        "!pip3 install --upgrade pandas"
      ],
      "metadata": {
        "id": "UwmqJW7uMSpo",
        "colab": {
          "base_uri": "https://localhost:8080/",
          "height": 381
        },
        "outputId": "3d94d66d-d390-49b0-8191-44550e31fc51"
      },
      "execution_count": null,
      "outputs": [
        {
          "output_type": "stream",
          "name": "stdout",
          "text": [
            "Requirement already satisfied: pandas in /usr/local/lib/python3.7/dist-packages (1.1.5)\n",
            "Collecting pandas\n",
            "  Downloading pandas-1.3.5-cp37-cp37m-manylinux_2_17_x86_64.manylinux2014_x86_64.whl (11.3 MB)\n",
            "\u001b[K     |████████████████████████████████| 11.3 MB 6.6 MB/s \n",
            "\u001b[?25hRequirement already satisfied: python-dateutil>=2.7.3 in /usr/local/lib/python3.7/dist-packages (from pandas) (2.8.2)\n",
            "Requirement already satisfied: numpy>=1.17.3 in /usr/local/lib/python3.7/dist-packages (from pandas) (1.19.5)\n",
            "Requirement already satisfied: pytz>=2017.3 in /usr/local/lib/python3.7/dist-packages (from pandas) (2018.9)\n",
            "Requirement already satisfied: six>=1.5 in /usr/local/lib/python3.7/dist-packages (from python-dateutil>=2.7.3->pandas) (1.15.0)\n",
            "Installing collected packages: pandas\n",
            "  Attempting uninstall: pandas\n",
            "    Found existing installation: pandas 1.1.5\n",
            "    Uninstalling pandas-1.1.5:\n",
            "      Successfully uninstalled pandas-1.1.5\n",
            "\u001b[31mERROR: pip's dependency resolver does not currently take into account all the packages that are installed. This behaviour is the source of the following dependency conflicts.\n",
            "google-colab 1.0.0 requires pandas~=1.1.0; python_version >= \"3.0\", but you have pandas 1.3.5 which is incompatible.\u001b[0m\n",
            "Successfully installed pandas-1.3.5\n"
          ]
        },
        {
          "output_type": "display_data",
          "data": {
            "application/vnd.colab-display-data+json": {
              "pip_warning": {
                "packages": [
                  "pandas"
                ]
              }
            }
          },
          "metadata": {}
        }
      ]
    },
    {
      "cell_type": "code",
      "execution_count": null,
      "metadata": {
        "colab": {
          "base_uri": "https://localhost:8080/"
        },
        "id": "qbsAQlCIL2Ox",
        "outputId": "9914b6bc-1a76-496e-c9d3-297b25207990"
      },
      "outputs": [
        {
          "output_type": "stream",
          "name": "stdout",
          "text": [
            "Drive already mounted at /content/gdrive; to attempt to forcibly remount, call drive.mount(\"/content/gdrive\", force_remount=True).\n"
          ]
        }
      ],
      "source": [
        "import librosa\n",
        "import matplotlib.pyplot as plt\n",
        "import numpy as np\n",
        "import librosa.display\n",
        "\n",
        "from google.colab import drive\n",
        "drive.mount('/content/gdrive')\n",
        "\n",
        "SR = 22050"
      ]
    },
    {
      "cell_type": "code",
      "source": [
        "def normalize(x):\n",
        "    return x / max(abs(x))"
      ],
      "metadata": {
        "id": "-RHQ79cCjsnK"
      },
      "execution_count": null,
      "outputs": []
    },
    {
      "cell_type": "code",
      "source": [
        "import pandas as pd \n",
        "\n",
        "#df = pd.read_pickle(\"/content/gdrive/MyDrive/CS583/NewAudioFeatures.pkl\")\n",
        "#df = pd.read_pickle(\"/content/gdrive/MyDrive/CS583/NewTestFeatures.pkl\")\n",
        "df = pd.read_pickle(\"/content/gdrive/MyDrive/CS583/AlternativeTrain.pkl\")"
      ],
      "metadata": {
        "id": "hn9HZVr_MOzg"
      },
      "execution_count": null,
      "outputs": []
    },
    {
      "cell_type": "code",
      "source": [
        "set(df['Language'])"
      ],
      "metadata": {
        "colab": {
          "base_uri": "https://localhost:8080/"
        },
        "id": "sqCeVS_YMdrr",
        "outputId": "3922d83f-4d82-4637-be8f-4c3cf0f98333"
      },
      "execution_count": null,
      "outputs": [
        {
          "output_type": "execute_result",
          "data": {
            "text/plain": [
              "{'Chinese', 'English', 'French', 'Japanese', 'Korean', 'Spanish'}"
            ]
          },
          "metadata": {},
          "execution_count": 4
        }
      ]
    },
    {
      "cell_type": "code",
      "source": [
        "# Code adapted from Professor Snyder's code for mel spectrogram creation\n",
        "curSignal = df['Signal'][0]\n",
        "curLang = df['Language'][0]\n",
        "spectr = librosa.feature.melspectrogram(normalize(curSignal), sr=SR,n_fft=1024,hop_length=512, power=1)\n",
        "mel_spect = librosa.power_to_db(spectr, ref=np.max)\n",
        "plt.figure(figsize=(3,2))\n",
        "librosa.display.specshow(mel_spect, y_axis='mel',  x_axis='time');\n",
        "save_path = \"/content/gdrive/MyDrive/CS583/Training Images\"\n",
        "#plt.savefig(save_path + \"/\" + curLang + \"/\" + curLang + \"_\" + str(1))"
      ],
      "metadata": {
        "id": "stkAo6wsodtP"
      },
      "execution_count": null,
      "outputs": []
    },
    {
      "cell_type": "code",
      "source": [
        "import PIL\n",
        "image = PIL.Image.open(\"/content/gdrive/MyDrive/CS583/Training Images/Japanese/Japanese_0.png\") \n",
        "width, height = image.size\n",
        "print(width, height)"
      ],
      "metadata": {
        "colab": {
          "base_uri": "https://localhost:8080/"
        },
        "id": "J3hYKJIkomq4",
        "outputId": "abc37214-70ca-428f-84f6-fc06e5d7654b"
      },
      "execution_count": null,
      "outputs": [
        {
          "output_type": "stream",
          "name": "stdout",
          "text": [
            "216 144\n"
          ]
        }
      ]
    },
    {
      "cell_type": "code",
      "source": [
        "#save_path = \"/content/gdrive/MyDrive/CS583/Training Images\"\n",
        "#save_path = \"/content/gdrive/MyDrive/CS583/Testing Images\"\n",
        "save_path = \"/content/gdrive/MyDrive/CS583/Alternative Train\"\n",
        "\n",
        "for index in range(len(df)):\n",
        "  curSignal = df['Signal'][index]\n",
        "  curLang = df['Language'][index]\n",
        "  spectr = librosa.feature.melspectrogram(normalize(curSignal), sr=SR,n_fft=1024,hop_length=512, power=1)\n",
        "  mel_spect = librosa.power_to_db(spectr, ref=np.max)\n",
        "\n",
        "  plt.figure(figsize=(3,2))\n",
        "  librosa.display.specshow(mel_spect, y_axis='mel',  x_axis='time');\n",
        "\n",
        "  plt.savefig(save_path + \"/\" + curLang + \"/\" + curLang + \"_\" + str(index+1))\n",
        "  #plt.title('Mel Spectrogram of Signal');\n",
        "  #plt.colorbar(format='%+2.0f dB');"
      ],
      "metadata": {
        "id": "K9zejZ6dQqmn"
      },
      "execution_count": null,
      "outputs": []
    }
  ]
}